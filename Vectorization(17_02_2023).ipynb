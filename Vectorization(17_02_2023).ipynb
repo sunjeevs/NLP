{
  "nbformat": 4,
  "nbformat_minor": 0,
  "metadata": {
    "colab": {
      "provenance": []
    },
    "kernelspec": {
      "name": "python3",
      "display_name": "Python 3"
    },
    "language_info": {
      "name": "python"
    }
  },
  "cells": [
    {
      "cell_type": "code",
      "execution_count": 2,
      "metadata": {
        "id": "Ijd0aoi-OfOm"
      },
      "outputs": [],
      "source": [
        "from sklearn.feature_extraction.text import CountVectorizer\n",
        "vect = CountVectorizer(binary = True)"
      ]
    },
    {
      "cell_type": "code",
      "source": [
        "corpus = [\"NLP is awesome\",\"Top Unicorns use NLP techniques\",\"NLP Startups are amazing\"]"
      ],
      "metadata": {
        "id": "yliSW8N3O7b_"
      },
      "execution_count": 3,
      "outputs": []
    },
    {
      "cell_type": "code",
      "source": [
        "vect.fit(corpus)"
      ],
      "metadata": {
        "colab": {
          "base_uri": "https://localhost:8080/"
        },
        "id": "Zzs78gOWPNyL",
        "outputId": "280b5137-d105-4940-db7b-a3dabb88eeb4"
      },
      "execution_count": 4,
      "outputs": [
        {
          "output_type": "execute_result",
          "data": {
            "text/plain": [
              "CountVectorizer(binary=True)"
            ]
          },
          "metadata": {},
          "execution_count": 4
        }
      ]
    },
    {
      "cell_type": "code",
      "source": [
        "vocab = vect.vocabulary_"
      ],
      "metadata": {
        "id": "RGm4JZK_Pebn"
      },
      "execution_count": 5,
      "outputs": []
    },
    {
      "cell_type": "code",
      "source": [
        "for key in vocab.keys():\n",
        "    print(\"{}:{}\".format(key,vocab[key]))"
      ],
      "metadata": {
        "colab": {
          "base_uri": "https://localhost:8080/"
        },
        "id": "YgvWc0pLPopJ",
        "outputId": "36c843e9-75ac-477b-8a1e-e61fc233c1b0"
      },
      "execution_count": 6,
      "outputs": [
        {
          "output_type": "stream",
          "name": "stdout",
          "text": [
            "nlp:4\n",
            "is:3\n",
            "awesome:2\n",
            "top:7\n",
            "unicorns:8\n",
            "use:9\n",
            "techniques:6\n",
            "startups:5\n",
            "are:1\n",
            "amazing:0\n"
          ]
        }
      ]
    },
    {
      "cell_type": "code",
      "source": [
        "vect.transform([\"NLP Projects are super fun to work on\"]).toarray()"
      ],
      "metadata": {
        "colab": {
          "base_uri": "https://localhost:8080/"
        },
        "id": "zYOguI7XQE4f",
        "outputId": "150ccc7b-91c8-4199-f657-130290a9a9e8"
      },
      "execution_count": 8,
      "outputs": [
        {
          "output_type": "execute_result",
          "data": {
            "text/plain": [
              "array([[0, 1, 0, 0, 1, 0, 0, 0, 0, 0]])"
            ]
          },
          "metadata": {},
          "execution_count": 8
        }
      ]
    },
    {
      "cell_type": "code",
      "source": [
        "from sklearn.metrics.pairwise import cosine_similarity\n",
        "sim = cosine_similarity(vect.transform([\"Machine Learning is an awesome subject\"]).toarray(),vect.transform([\"NLP is a lucrative career option and a fun field to pursue\"]).toarray())"
      ],
      "metadata": {
        "id": "ailrl1NhQFJI"
      },
      "execution_count": 25,
      "outputs": []
    },
    {
      "cell_type": "code",
      "source": [
        "print(sim)"
      ],
      "metadata": {
        "colab": {
          "base_uri": "https://localhost:8080/"
        },
        "id": "VZmEkJSaQFMJ",
        "outputId": "05c2ecc8-86e2-4a86-c569-3821bc91d00f"
      },
      "execution_count": 26,
      "outputs": [
        {
          "output_type": "stream",
          "name": "stdout",
          "text": [
            "[[0.5]]\n"
          ]
        }
      ]
    }
  ]
}